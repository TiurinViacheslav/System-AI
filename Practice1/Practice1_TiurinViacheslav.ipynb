{
 "cells": [
  {
   "cell_type": "markdown",
   "metadata": {},
   "source": [
    "# Практическая работа №1 \n",
    "## Тема: «Основные возможности языка Python»\n",
    "### Выполнил студент: Тюрин Вячеслав\n",
    "#### ВАРИАНТ: 19\n"
   ]
  },
  {
   "cell_type": "markdown",
   "metadata": {},
   "source": [
    "#### Задание 1. Расчеты арифметических выражений \n",
    "УСЛОВИЕ:\n",
    "# $z=\\frac {\\frac{a}{y}}{3x-2a}-x+\\frac {7y-3a}{x-4y}$"
   ]
  },
  {
   "cell_type": "code",
   "execution_count": 3,
   "metadata": {},
   "outputs": [
    {
     "name": "stdout",
     "output_type": "stream",
     "text": [
      "Введите значение x: 1\n",
      "Введите значение y: 2\n",
      "Введите значение a: 3\n",
      "z= -2.2142857142857144\n"
     ]
    }
   ],
   "source": [
    "x=float(input('Введите значение x: '))\n",
    "y=float(input('Введите значение y: '))\n",
    "a=float(input('Введите значение a: '))\n",
    "z=((a/y)/(3*x-2*a))-x+(7*y-3*a)/(x-4*y)\n",
    "print('z=',z)"
   ]
  },
  {
   "cell_type": "markdown",
   "metadata": {},
   "source": [
    "#### Задание 2. Расчеты математических выражений \n",
    "УСЛОВИЕ:\n",
    "# $z=x+\\exp^x+\\frac{\\sin(x)^5+x^3}{3^x}+\\frac{y^5}{7^y}$"
   ]
  },
  {
   "cell_type": "code",
   "execution_count": 5,
   "metadata": {},
   "outputs": [
    {
     "name": "stdout",
     "output_type": "stream",
     "text": [
      "Введите значение x: 1\n",
      "Введите значение y: 2\n",
      "z= 4.985166714551473\n"
     ]
    }
   ],
   "source": [
    "import math\n",
    "x=float(input('Введите значение x: '))\n",
    "y=float(input('Введите значение y: '))\n",
    "z=x+math.exp(x)+(math.sin(pow(x,5))+(pow(x,3)))/((pow(3,x)))+(pow(y,5))/(pow(7,y))\n",
    "print('z=',z)"
   ]
  },
  {
   "attachments": {
    "image.png": {
     "image/png": "[encoded data removed]"
    }
   },
   "cell_type": "markdown",
   "metadata": {},
   "source": [
    "#### Задание 3. Логические вычисления \n",
    "УСЛОВИЕ: \n",
    "![image.png](attachment:image.png)"
   ]
  },
  {
   "cell_type": "code",
   "execution_count": 20,
   "metadata": {},
   "outputs": [
    {
     "name": "stdout",
     "output_type": "stream",
     "text": [
      "Введите значение x: 4\n",
      "Введите значение y: 14\n",
      "не находится\n"
     ]
    }
   ],
   "source": [
    "x=int(input('Введите значение x: '))\n",
    "y=int(input('Введите значение y: '))\n",
    "if x>=3 and x<=5 and y>=3 and y<=4:\n",
    "    print(\"находится\")\n",
    "elif x==9 and y>=3 and y<=4:\n",
    "    print(\"находится\")\n",
    "elif x==12 and y>=3 and y<=11:\n",
    "    print(\"находится\")\n",
    "elif x==13 and y>=6 and y<=8:\n",
    "    print(\"находится\")\n",
    "elif x>=5 and x<=11 and y>=5 and y<=7:\n",
    "    print(\"находится\")\n",
    "elif y==7 and x>=3 and x<=4:\n",
    "    print(\"находится\")\n",
    "elif x>=6 and x<=8 and y>=8 and y<=10:\n",
    "    print(\"находится\")\n",
    "elif y==11 and x>=3 and x<=8:\n",
    "    print(\"находится\")\n",
    "elif y==12 and x>=7 and x<=8:\n",
    "    print(\"находится\")\n",
    "elif x==4 and y>=12 and y<=13:\n",
    "    print(\"находится\")\n",
    "else:\n",
    "    print(\"не находится\")"
   ]
  },
  {
   "attachments": {
    "image-2.png": {
     "image/png": "[encoded data removed]"
    }
   },
   "cell_type": "markdown",
   "metadata": {},
   "source": [
    "#### Задание 4. Логические вычисления \n",
    "УСЛОВИЕ: \n",
    "![image-2.png](attachment:image-2.png)"
   ]
  },
  {
   "cell_type": "code",
   "execution_count": 36,
   "metadata": {
    "scrolled": true
   },
   "outputs": [
    {
     "name": "stdout",
     "output_type": "stream",
     "text": [
      "Введите значение x: -0.2\n",
      "Введите значение y: 0.01\n",
      "находится\n"
     ]
    }
   ],
   "source": [
    "x=float(input('Введите значение x: '))\n",
    "y=float(input('Введите значение y: '))\n",
    "if x*x+y*y<=1 and y>=0 and ((x<=0) or (x*x+y*y>=0.09 and x>=0)):\n",
    "    print('находится')\n",
    "else:\n",
    "    print('не находится')"
   ]
  },
  {
   "cell_type": "markdown",
   "metadata": {},
   "source": [
    "#### Задание 5. Вычисление циклических процессов\n",
    "УСЛОВИЕ: \n",
    "# $f(x)=\\cos^2(\\sin(\\frac{2}{x}))+x^2$"
   ]
  },
  {
   "cell_type": "code",
   "execution_count": 53,
   "metadata": {},
   "outputs": [
    {
     "name": "stdout",
     "output_type": "stream",
     "text": [
      "Введите начальное значение x1: -0.1\n",
      "Введите конечное значение x2: 2\n",
      "Введите шаг s: 0.1\n",
      "*********************************************************\n",
      "Результат:\n",
      "+----------------+\n",
      "|  X  |    f(x)  |\n",
      "+----------------+\n",
      "|-0.10|     0.384|\n",
      "| 0.00|     ERROR|\n",
      "| 0.10|     0.384|\n",
      "| 0.20|     0.772|\n",
      "| 0.30|     0.956|\n",
      "| 0.40|     0.490|\n",
      "| 0.50|     0.779|\n",
      "| 0.60|     1.324|\n",
      "| 0.70|     1.413|\n",
      "| 0.80|     1.323|\n",
      "| 0.90|     1.300|\n",
      "| 1.00|     1.377|\n",
      "| 1.10|     1.530|\n",
      "| 1.20|     1.736|\n",
      "| 1.30|     1.982|\n",
      "| 1.40|     2.261|\n",
      "| 1.50|     2.568|\n",
      "| 1.60|     2.899|\n",
      "| 1.70|     3.254|\n",
      "| 1.80|     3.630|\n",
      "| 1.90|     4.027|\n",
      "+----------------+\n",
      "*********************************************************\n"
     ]
    }
   ],
   "source": [
    "import math\n",
    "x=[]\n",
    "y=[]\n",
    "x1=float(input('Введите начальное значение x1: '))\n",
    "x2=float(input('Введите конечное значение x2: '))\n",
    "s=float(input('Введите шаг s: '))\n",
    "print('*********************************************************')\n",
    "print('Результат:')\n",
    "print('+----------------+')\n",
    "print('|  X  |    f(x)  |')\n",
    "print('+----------------+')\n",
    "while (x1<=x2):\n",
    "    if x1!=0:\n",
    "        y1=pow(math.cos(math.sin(2/x1)),2)+pow(x1,2)\n",
    "        y.append(y1)\n",
    "        x.append(x1)\n",
    "        print('|{:5.2f}|{:10.3f}|'.format(x1,y1))\n",
    "    else:\n",
    "        y.append('ERROR')\n",
    "        print('|{:5.2f}|     ERROR|'.format(x1))\n",
    "    x1=x1+s\n",
    "print('+----------------+')\n",
    "print('*********************************************************')"
   ]
  },
  {
   "cell_type": "markdown",
   "metadata": {},
   "source": [
    "####  Задание 6. Списки (одномерные массивы) в Python \n",
    "УСЛОВИЕ: \n",
    "Дан целочисленный одномерный массив на N элементов, заполненный случайными числами в заданном диапазоне (от $-n1$ до $+n2$) с чередованием отрицательного и положительного числа.  \n",
    "Найти сумму всех отрицательных элементов массива, кроме элементов с номерами от K до L включительно.\n",
    "Произвести проверку на корректность ввода интервальных значений ($-n1<+n2, K<L$)."
   ]
  },
  {
   "cell_type": "code",
   "execution_count": 3,
   "metadata": {},
   "outputs": [
    {
     "name": "stdout",
     "output_type": "stream",
     "text": [
      "Введите количество элементов в массиве: 20\n",
      "*********************************************************\n",
      "ВВЕДИТЕ ДИАПОЗОН ЗНАЧЕНИЙ\n",
      "Введите нижнюю границу диапазона: 1\n",
      "Введите верхнюю границу диапазона: 20\n",
      "*********************************************************\n",
      "Сгенерированный одномерный массив:\n",
      "0  ) 6\n",
      "1  ) -10\n",
      "2  ) 10\n",
      "3  ) -2\n",
      "4  ) 10\n",
      "5  ) -9\n",
      "6  ) 1\n",
      "7  ) -15\n",
      "8  ) 20\n",
      "9  ) -10\n",
      "10  ) 2\n",
      "11  ) -7\n",
      "12  ) 19\n",
      "13  ) -6\n",
      "14  ) 13\n",
      "15  ) -6\n",
      "16  ) 19\n",
      "17  ) -9\n",
      "18  ) 18\n",
      "19  ) -1\n",
      "*********************************************************\n",
      "Введите значение K: 7\n",
      "Введите значение L: 17\n",
      "*********************************************************\n",
      "1  ) -10\n",
      "3  ) -2\n",
      "5  ) -9\n",
      "19  ) -1\n",
      "*********************************************************\n",
      "Сумма всех отрицательных элементов массива:  -22\n"
     ]
    }
   ],
   "source": [
    "import random\n",
    "\n",
    "N = int(input(\"Введите количество элементов в массиве: \"))\n",
    "print('*********************************************************')\n",
    "print(\"ВВЕДИТЕ ДИАПОЗОН ЗНАЧЕНИЙ\")\n",
    "n1 = int(input(\"Введите нижнюю границу диапазона: \"))\n",
    "n2 = int(input(\"Введите верхнюю границу диапазона: \"))\n",
    "print('*********************************************************')\n",
    "if n1 >= n2:\n",
    "    print(\"Ошибка ввода интервальных значений.\")\n",
    "else:\n",
    "    arr = [random.randint(n1, n2) * ((-1) ** i) for i in range(N)]\n",
    "    print(\"Сгенерированный одномерный массив:\")\n",
    "    for i in range(N):\n",
    "        print(i,\" )\",arr[i])\n",
    "    print('*********************************************************')\n",
    "    K = int(input(\"Введите значение K: \"))\n",
    "    L = int(input(\"Введите значение L: \"))\n",
    "    print('*********************************************************')\n",
    "    if K >= L:\n",
    "        print(\"Ошибка ввода интервальных значений.\")\n",
    "    else:\n",
    "        arrsum = 0\n",
    "        for i in range(N):\n",
    "            if i < K or i > L:\n",
    "                if arr[i] < 0:\n",
    "                    print(i,\" )\",arr[i])\n",
    "                    arrsum += arr[i]\n",
    "\n",
    "        # Вывод результата\n",
    "        print('*********************************************************')\n",
    "        print(\"Сумма всех отрицательных элементов массива: \", arrsum)"
   ]
  },
  {
   "cell_type": "markdown",
   "metadata": {},
   "source": [
    "#### Задание 7. Двумерные массивы (матрицы) в Python \n",
    "УСЛОВИЕ:\n",
    "Дан целочисленный двумерный массив N на M элементов, заполненный случайными числами в заданном диапазоне (от $n1$ до $n2$) с чередованием положительного и отрицательного числа в строках.\n",
    "Найти сумму всех положительных элементов массива, кроме элементов с номерами от K до L включительно в заданном столбце С.\n",
    "Произвести проверку на корректность ввода интервальных значений ($-n1<+n2, K<L, С$ и т.д.).\n",
    "\n"
   ]
  },
  {
   "cell_type": "code",
   "execution_count": 14,
   "metadata": {},
   "outputs": [
    {
     "name": "stdout",
     "output_type": "stream",
     "text": [
      "Введите размерность массива: \n",
      "Введите количество строк: 10\n",
      "Введите количество столбцов: 10\n",
      "*********************************************************\n",
      "ВВЕДИТЕ ДИАПОЗОН ЗНАЧЕНИЙ\n",
      "Введите нижнюю границу диапазона: 1\n",
      "Введите верхнюю границу диапазона: 30\n",
      "*********************************************************\n",
      "Сгенерированный массив:\n",
      "-30 -11 -12 -22  -4 -26 -12 -27  -4 -19 \n",
      " 18   4   4   3  23   6  25   7  12   1 \n",
      "-20 -30 -30 -20 -12  -9 -23  -7  -3 -22 \n",
      " 20   1  12  28   8  27  22   4  29  30 \n",
      "-13  -9 -27 -25 -29 -21 -13 -30 -12  -7 \n",
      " 24  25  18  25  28  22   7  27  21  29 \n",
      "-13  -2  -3  -5  -4  -2 -13 -11 -29 -22 \n",
      " 10  12  24  10   5  20  25   3  22  28 \n",
      " -3 -28 -11  -6  -9 -23  -8  -2 -13 -26 \n",
      " 17  16   2  25  14   9  22  18  16  29 \n",
      "*********************************************************\n",
      "Введите значение K: 1\n",
      "Введите значение L: 5\n",
      "Введите номер столбца C: 5\n",
      "*********************************************************\n",
      "m(7,5) 20\n",
      "m(9,5) 9\n",
      "*********************************************************\n",
      "Сумма положительных элементов массива 29\n"
     ]
    }
   ],
   "source": [
    "import random\n",
    "\n",
    "print(\"Введите размерность массива: \")\n",
    "N = int(input(\"Введите количество строк: \"))\n",
    "M = int(input(\"Введите количество столбцов: \"))\n",
    "print('*********************************************************')\n",
    "print(\"ВВЕДИТЕ ДИАПОЗОН ЗНАЧЕНИЙ\")\n",
    "n1 = int(input(\"Введите нижнюю границу диапазона: \"))\n",
    "n2 = int(input(\"Введите верхнюю границу диапазона: \"))\n",
    "print('*********************************************************')\n",
    "\n",
    "if n1 >= n2:\n",
    "    print(\"Ошибка ввода интервальных значений или номера столбца.\")\n",
    "else:\n",
    "    arr = [[random.randint(n1, n2) * ((-1) ** ((i+1) % 2)) for _ in range(M)] for i in range(N)]\n",
    "\n",
    "    # Вывод массива\n",
    "    print(\"Сгенерированный массив:\")\n",
    "    for i in range(N):\n",
    "        for j in range(M):\n",
    "            print(\"%3s\" % arr[i][j], end = ' ')\n",
    "        print()\n",
    "    print('*********************************************************')\n",
    "    K = int(input(\"Введите значение K: \"))\n",
    "    L = int(input(\"Введите значение L: \"))\n",
    "    C = int(input(\"Введите номер столбца C: \"))\n",
    "    print('*********************************************************')\n",
    "    sum_positive = 0\n",
    "    for i in range(N):\n",
    "        for j in range(M):\n",
    "            if j == C and (i < K or i > L):\n",
    "                if arr[i][j] > 0:\n",
    "                    sum_positive += arr[i][j]\n",
    "                    print(\"m(\"+str(i)+\",\"+str(j)+\")\",arr[i][j])\n",
    "\n",
    "    print('*********************************************************')\n",
    "    print(\"Сумма положительных элементов массива\", sum_positive)\n"
   ]
  }
 ],
 "metadata": {
  "kernelspec": {
   "display_name": "Python 3 (ipykernel)",
   "language": "python",
   "name": "python3"
  },
  "language_info": {
   "codemirror_mode": {
    "name": "ipython",
    "version": 3
   },
   "file_extension": ".py",
   "mimetype": "text/x-python",
   "name": "python",
   "nbconvert_exporter": "python",
   "pygments_lexer": "ipython3",
   "version": "3.11.5"
  }
 },
 "nbformat": 4,
 "nbformat_minor": 4
}
